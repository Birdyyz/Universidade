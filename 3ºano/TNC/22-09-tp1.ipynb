{
 "cells": [
  {
   "cell_type": "code",
   "execution_count": 1,
   "id": "8a236386-cabd-4e3b-b53f-cc437cda8740",
   "metadata": {},
   "outputs": [],
   "source": [
    "n = 35\n",
    "Zn = IntegerModRing(35)\n",
    "a = Zn(6)"
   ]
  },
  {
   "cell_type": "code",
   "execution_count": 2,
   "id": "89b08ea7-5ac6-4850-9a63-f663793541a0",
   "metadata": {},
   "outputs": [
    {
     "data": {
      "text/plain": [
       "6"
      ]
     },
     "execution_count": 2,
     "metadata": {},
     "output_type": "execute_result"
    }
   ],
   "source": [
    "1/a"
   ]
  },
  {
   "cell_type": "code",
   "execution_count": 3,
   "id": "b945bb70-bda0-4790-a939-faa91c16c348",
   "metadata": {},
   "outputs": [],
   "source": [
    "b = Zn(10)"
   ]
  },
  {
   "cell_type": "code",
   "execution_count": 7,
   "id": "2b51555c-8a1b-48b7-bbc5-2431805139f9",
   "metadata": {},
   "outputs": [],
   "source": [
    "#1/b"
   ]
  },
  {
   "cell_type": "code",
   "execution_count": 6,
   "id": "17752776-6cd1-4298-b3c0-fa1a201d348a",
   "metadata": {},
   "outputs": [
    {
     "data": {
      "text/plain": [
       "False"
      ]
     },
     "execution_count": 6,
     "metadata": {},
     "output_type": "execute_result"
    }
   ],
   "source": [
    "gcd(b, n) == 1"
   ]
  },
  {
   "cell_type": "code",
   "execution_count": 9,
   "id": "cadac6f6-0a92-44bb-b84a-6966bc737733",
   "metadata": {},
   "outputs": [
    {
     "data": {
      "text/plain": [
       "(1, 6, -1)"
      ]
     },
     "execution_count": 9,
     "metadata": {},
     "output_type": "execute_result"
    }
   ],
   "source": [
    "xgcd(ZZ(a), n)"
   ]
  },
  {
   "cell_type": "code",
   "execution_count": 11,
   "id": "9abbb4ec-9574-4ad1-9eff-5535393fa604",
   "metadata": {},
   "outputs": [],
   "source": [
    "def my_inverse(a, n):\n",
    "    if gcd(a, n) != 1:\n",
    "        return False\n",
    "    _, x, _ = xgcd(a, n)\n",
    "    return mod(x, n)"
   ]
  },
  {
   "cell_type": "code",
   "execution_count": 14,
   "id": "0e60d3e5-7b9c-4fed-89dc-872b67da4c34",
   "metadata": {},
   "outputs": [
    {
     "data": {
      "text/plain": [
       "3"
      ]
     },
     "execution_count": 14,
     "metadata": {},
     "output_type": "execute_result"
    }
   ],
   "source": [
    "my_inverse(12, 35)"
   ]
  },
  {
   "cell_type": "markdown",
   "id": "86d7be2e-c5c0-40a9-a4ab-67e0970fa477",
   "metadata": {},
   "source": [
    "Teorema de Wilson:\n",
    "\n",
    "$n$ é primo se e só se $(n-1)!\\equiv -1 \\mod n$."
   ]
  },
  {
   "cell_type": "code",
   "execution_count": 25,
   "id": "229ba754-81f2-4fb7-8986-f485406b3733",
   "metadata": {},
   "outputs": [],
   "source": [
    "def factorial_mod(a, n):\n",
    "    factorial = mod(1, n)\n",
    "    for i in range(1, a+1):\n",
    "        factorial = factorial*i\n",
    "    return factorial\n",
    "\n",
    "def teste_Wilson(n):\n",
    "    return factorial_mod(n-1, n) == mod(-1, n)"
   ]
  },
  {
   "cell_type": "code",
   "execution_count": 26,
   "id": "80d9924c-82bc-4438-a4e4-e600e6f80e3e",
   "metadata": {},
   "outputs": [
    {
     "data": {
      "text/plain": [
       "True"
      ]
     },
     "execution_count": 26,
     "metadata": {},
     "output_type": "execute_result"
    }
   ],
   "source": [
    "teste_Wilson(31)"
   ]
  },
  {
   "cell_type": "code",
   "execution_count": 43,
   "id": "8b2d5c68-ba97-43e5-b626-fa1ec21ccdbe",
   "metadata": {},
   "outputs": [
    {
     "data": {
      "text/plain": [
       "12"
      ]
     },
     "execution_count": 43,
     "metadata": {},
     "output_type": "execute_result"
    }
   ],
   "source": [
    "floor(sqrt(151))"
   ]
  },
  {
   "cell_type": "code",
   "execution_count": 46,
   "id": "b2e3751b-d300-4801-84f4-d4be0d63172b",
   "metadata": {},
   "outputs": [
    {
     "data": {
      "text/plain": [
       "True"
      ]
     },
     "execution_count": 46,
     "metadata": {},
     "output_type": "execute_result"
    }
   ],
   "source": [
    "5 in Primes()"
   ]
  },
  {
   "cell_type": "code",
   "execution_count": 47,
   "id": "c977cc96-181b-4e37-a3e6-39f56bcfd4ab",
   "metadata": {},
   "outputs": [
    {
     "data": {
      "text/plain": [
       "True"
      ]
     },
     "execution_count": 47,
     "metadata": {},
     "output_type": "execute_result"
    }
   ],
   "source": [
    "5.is_prime()"
   ]
  },
  {
   "cell_type": "code",
   "execution_count": 54,
   "id": "fe6947e6-bb87-42e2-8027-c994e53ac285",
   "metadata": {},
   "outputs": [
    {
     "data": {
      "text/plain": [
       "[2, 3, 5, 7, 11]"
      ]
     },
     "execution_count": 54,
     "metadata": {},
     "output_type": "execute_result"
    }
   ],
   "source": [
    "[p for p in range(1, 12) if is_prime(p)]"
   ]
  },
  {
   "cell_type": "code",
   "execution_count": 58,
   "id": "c43fa765-b328-4477-8b9b-68323650c715",
   "metadata": {},
   "outputs": [],
   "source": [
    "def div_tentativas(n):\n",
    "    \"\"\" algoritmo de teste de primalidade por tentativas\"\"\"\n",
    "    lim_sum = floor(sqrt(n))\n",
    "    primos = [p for p in range(1, lim_sum+1) if is_prime(p)]\n",
    "    for p in primos:\n",
    "        if n%p == 0:\n",
    "            return False\n",
    "    return True"
   ]
  },
  {
   "cell_type": "code",
   "execution_count": 59,
   "id": "9b380faa-3d7a-4d3b-8f50-dbb85b8b841e",
   "metadata": {},
   "outputs": [
    {
     "data": {
      "text/plain": [
       "True"
      ]
     },
     "execution_count": 59,
     "metadata": {},
     "output_type": "execute_result"
    }
   ],
   "source": [
    "div_tentativas(151)"
   ]
  },
  {
   "cell_type": "code",
   "execution_count": 61,
   "id": "9b2e26c5-35c2-4912-b7dc-70996ccdde89",
   "metadata": {},
   "outputs": [
    {
     "data": {
      "text/plain": [
       "False"
      ]
     },
     "execution_count": 61,
     "metadata": {},
     "output_type": "execute_result"
    }
   ],
   "source": [
    "div_tentativas(153)"
   ]
  },
  {
   "cell_type": "code",
   "execution_count": null,
   "id": "5bf9b46f-4c7e-4083-a49d-00d0354a1aec",
   "metadata": {},
   "outputs": [],
   "source": []
  }
 ],
 "metadata": {
  "kernelspec": {
   "display_name": "SageMath 10.4",
   "language": "sage",
   "name": "sagemath-10.4"
  },
  "language_info": {
   "codemirror_mode": {
    "name": "ipython",
    "version": 3
   },
   "file_extension": ".py",
   "mimetype": "text/x-python",
   "name": "python",
   "nbconvert_exporter": "python",
   "pygments_lexer": "ipython3",
   "version": "3.12.4"
  }
 },
 "nbformat": 4,
 "nbformat_minor": 5
}
