{
 "cells": [
  {
   "cell_type": "code",
   "execution_count": 46,
   "id": "c2a57140-0ee4-45ff-8e50-5fb65a845ee1",
   "metadata": {},
   "outputs": [],
   "source": [
    "f = lambda x: x^2+1"
   ]
  },
  {
   "cell_type": "code",
   "execution_count": 47,
   "id": "7f1c3659-61a4-4a9f-a716-bcd698a0caca",
   "metadata": {},
   "outputs": [
    {
     "data": {
      "text/plain": [
       "5"
      ]
     },
     "execution_count": 47,
     "metadata": {},
     "output_type": "execute_result"
    }
   ],
   "source": [
    "f(2)"
   ]
  },
  {
   "cell_type": "code",
   "execution_count": 63,
   "id": "fd3f689f-f867-4851-8dbc-5712f79645b8",
   "metadata": {},
   "outputs": [],
   "source": [
    "n = next_prime(4521312)*next_prime(6753212)"
   ]
  },
  {
   "cell_type": "code",
   "execution_count": 64,
   "id": "cd6bcc9e-fe77-464b-9046-f25627447a74",
   "metadata": {},
   "outputs": [
    {
     "name": "stdout",
     "output_type": "stream",
     "text": [
      "4521313 \n",
      "numero de passos:  780\n"
     ]
    }
   ],
   "source": [
    "x0 = mod(2, n)\n",
    "x = f(x0)\n",
    "y = f(f(x0))\n",
    "x, y\n",
    "s = 1\n",
    "while gcd(y-x, n) == 1 or x == y:\n",
    "    x = f(x)\n",
    "    y = f(f(y))\n",
    "    s +=1\n",
    "print(gcd(y-x,n), \"\\nnumero de passos: \", s)"
   ]
  },
  {
   "cell_type": "code",
   "execution_count": 76,
   "id": "94c03603-a164-43dc-ba1d-97aa4196b9c4",
   "metadata": {},
   "outputs": [
    {
     "name": "stdin",
     "output_type": "stream",
     "text": [
      " x^2+1\n"
     ]
    }
   ],
   "source": [
    "ff = input()"
   ]
  },
  {
   "cell_type": "code",
   "execution_count": 74,
   "id": "124f68b4-f41b-4825-91fa-1409084018c9",
   "metadata": {},
   "outputs": [],
   "source": [
    "fff = (PolynomialRing(ZZ, 'x'))(ff)"
   ]
  },
  {
   "cell_type": "code",
   "execution_count": 75,
   "id": "1fdb4869-7811-4b18-8fb6-05b04d2a9e4f",
   "metadata": {},
   "outputs": [
    {
     "data": {
      "text/plain": [
       "x^2 + 1"
      ]
     },
     "execution_count": 75,
     "metadata": {},
     "output_type": "execute_result"
    }
   ],
   "source": [
    "fff"
   ]
  },
  {
   "cell_type": "code",
   "execution_count": 77,
   "id": "5145f4fe-8bb1-493b-af58-53d8dd12dda4",
   "metadata": {},
   "outputs": [
    {
     "data": {
      "text/plain": [
       "'x^2+1'"
      ]
     },
     "execution_count": 77,
     "metadata": {},
     "output_type": "execute_result"
    }
   ],
   "source": [
    "ff"
   ]
  },
  {
   "cell_type": "code",
   "execution_count": 92,
   "id": "2d6a190b-c7e6-4fb0-aa02-d23982be9430",
   "metadata": {},
   "outputs": [],
   "source": [
    "def rho_Pollard():\n",
    "    n = ZZ(input(\"Numero a factorizar: \"))\n",
    "    Zn = IntegerModRing(n)\n",
    "    Pol = PolynomialRing(Zn, 'x')\n",
    "    pol = input(\"Polinomio gerador da sequencia aleatória: \")\n",
    "    f = Pol(pol)\n",
    "    x0 = Zn(input(\"Iteração inicial: \"))\n",
    "    a = f(x0)\n",
    "    b = f(f(x0))\n",
    "    s = 1\n",
    "    while gcd(b-a, n) == 1 or a == b:\n",
    "        a = f(a)\n",
    "        b = f(f(b))\n",
    "        s +=1\n",
    "    print(\"Numero de iterações: \",s)\n",
    "    return gcd(b-a, n)"
   ]
  },
  {
   "cell_type": "code",
   "execution_count": 93,
   "id": "a68af157-92fc-4a7f-8f5f-444001dba68a",
   "metadata": {},
   "outputs": [
    {
     "name": "stdin",
     "output_type": "stream",
     "text": [
      "Numero a factorizar:  36287\n",
      "Polinomio gerador da sequencia aleatória:  x^2+x+1\n",
      "Iteração inicial:  2\n"
     ]
    },
    {
     "name": "stdout",
     "output_type": "stream",
     "text": [
      "Numero de iterações:  9\n"
     ]
    },
    {
     "data": {
      "text/plain": [
       "131"
      ]
     },
     "execution_count": 93,
     "metadata": {},
     "output_type": "execute_result"
    }
   ],
   "source": [
    "rho_Pollard()"
   ]
  },
  {
   "cell_type": "markdown",
   "id": "f2139d03-e52b-450f-8d2d-0481343a818c",
   "metadata": {},
   "source": [
    "## Primos de Wilson"
   ]
  },
  {
   "cell_type": "markdown",
   "id": "4d00188f-486c-45ba-bf12-47b026aba6de",
   "metadata": {},
   "source": [
    "$p$ primo é primo de Wilson se $$(p-1)!\\equiv -1 \\mod p^2.$$"
   ]
  },
  {
   "cell_type": "code",
   "execution_count": 109,
   "id": "0df7bd97-1fe0-43f8-b1e5-ba84dd0334b7",
   "metadata": {},
   "outputs": [],
   "source": [
    "def fact_mod(k, n):\n",
    "    fact = mod(1, n)\n",
    "    s = 1\n",
    "    while s<=k:\n",
    "        fact = fact*s\n",
    "        s+=1\n",
    "    return fact\n",
    "\n",
    "def primo_Wilson(n):\n",
    "    if not is_prime(n):\n",
    "        return False\n",
    "    factorial = fact_mod(n-1, n^2)\n",
    "    return mod(factorial, n^2 ) == mod(-1, n^2 )\n",
    "    "
   ]
  },
  {
   "cell_type": "code",
   "execution_count": 110,
   "id": "a36ed52e-06b0-47ba-bc53-74df3cce916c",
   "metadata": {},
   "outputs": [
    {
     "data": {
      "text/plain": [
       "True"
      ]
     },
     "execution_count": 110,
     "metadata": {},
     "output_type": "execute_result"
    }
   ],
   "source": [
    "primo_Wilson(5)"
   ]
  },
  {
   "cell_type": "code",
   "execution_count": 113,
   "id": "34cd3f24-368b-4781-a3f4-db87903baf22",
   "metadata": {},
   "outputs": [
    {
     "data": {
      "text/plain": [
       "[5, 13, 563]"
      ]
     },
     "execution_count": 113,
     "metadata": {},
     "output_type": "execute_result"
    }
   ],
   "source": [
    "[k for k in range(1, 1000) if primo_Wilson(k)]"
   ]
  },
  {
   "cell_type": "code",
   "execution_count": null,
   "id": "d1100df1-07ba-4c54-892c-cc29b4d37379",
   "metadata": {},
   "outputs": [],
   "source": []
  }
 ],
 "metadata": {
  "kernelspec": {
   "display_name": "SageMath 10.4",
   "language": "sage",
   "name": "sagemath-10.4"
  },
  "language_info": {
   "codemirror_mode": {
    "name": "ipython",
    "version": 3
   },
   "file_extension": ".py",
   "mimetype": "text/x-python",
   "name": "python",
   "nbconvert_exporter": "python",
   "pygments_lexer": "ipython3",
   "version": "3.12.4"
  }
 },
 "nbformat": 4,
 "nbformat_minor": 5
}
