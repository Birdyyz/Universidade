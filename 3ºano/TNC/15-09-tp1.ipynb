{
 "cells": [
  {
   "cell_type": "markdown",
   "id": "76f6d00c-3143-4b9d-b41b-37e2f7661c89",
   "metadata": {},
   "source": [
    "## Aritmética modular"
   ]
  },
  {
   "cell_type": "code",
   "execution_count": 1,
   "id": "ccdb845d-f742-44dc-8a05-a2276155c30e",
   "metadata": {},
   "outputs": [
    {
     "data": {
      "text/plain": [
       "Ring of integers modulo 7"
      ]
     },
     "execution_count": 1,
     "metadata": {},
     "output_type": "execute_result"
    }
   ],
   "source": [
    "Z7 = IntegerModRing(7)\n",
    "Z7"
   ]
  },
  {
   "cell_type": "code",
   "execution_count": 3,
   "id": "0178f26a-a9b0-411a-a572-57814e8fd330",
   "metadata": {},
   "outputs": [
    {
     "data": {
      "text/plain": [
       "[1, 2, 3, 4, 5, 6]"
      ]
     },
     "execution_count": 3,
     "metadata": {},
     "output_type": "execute_result"
    }
   ],
   "source": [
    "A = [a for a in Z7 if a!=0]\n",
    "A"
   ]
  },
  {
   "cell_type": "code",
   "execution_count": 4,
   "id": "63a69aa4-1ba6-476f-ab44-dead7cdd4520",
   "metadata": {},
   "outputs": [
    {
     "data": {
      "text/plain": [
       "<class 'sage.rings.finite_rings.integer_mod.IntegerMod_int'>"
      ]
     },
     "execution_count": 4,
     "metadata": {},
     "output_type": "execute_result"
    }
   ],
   "source": [
    "type(A[2])"
   ]
  },
  {
   "cell_type": "code",
   "execution_count": 5,
   "id": "cc783a95-61d2-4a61-b9eb-7f79950d02a1",
   "metadata": {},
   "outputs": [
    {
     "data": {
      "text/plain": [
       "3"
      ]
     },
     "execution_count": 5,
     "metadata": {},
     "output_type": "execute_result"
    }
   ],
   "source": [
    "a = A[2]\n",
    "a"
   ]
  },
  {
   "cell_type": "code",
   "execution_count": 6,
   "id": "556e6a9c-8179-456b-adf5-a9052293b4df",
   "metadata": {},
   "outputs": [
    {
     "data": {
      "text/plain": [
       "2"
      ]
     },
     "execution_count": 6,
     "metadata": {},
     "output_type": "execute_result"
    }
   ],
   "source": [
    "a^2"
   ]
  },
  {
   "cell_type": "code",
   "execution_count": 8,
   "id": "1c142fd1-ec60-4cbf-82f7-4a6807908318",
   "metadata": {},
   "outputs": [
    {
     "data": {
      "text/plain": [
       "[1, 1, 1, 1, 1, 1]"
      ]
     },
     "execution_count": 8,
     "metadata": {},
     "output_type": "execute_result"
    }
   ],
   "source": [
    "p=7\n",
    "[a^(p-1) for a in A]"
   ]
  },
  {
   "cell_type": "code",
   "execution_count": 9,
   "id": "a6f92c1b-9a63-499d-8e9f-a417e43c6e7c",
   "metadata": {},
   "outputs": [],
   "source": [
    "a = Z7(2)"
   ]
  },
  {
   "cell_type": "code",
   "execution_count": 11,
   "id": "01a92c4d-3486-43b4-9365-747594b4a5f7",
   "metadata": {},
   "outputs": [
    {
     "data": {
      "text/plain": [
       "[2, 4, 1, 2, 4, 1]"
      ]
     },
     "execution_count": 11,
     "metadata": {},
     "output_type": "execute_result"
    }
   ],
   "source": [
    "[a^k for k in range(1, 7)]"
   ]
  },
  {
   "cell_type": "code",
   "execution_count": 12,
   "id": "ab870c89-da73-41fe-9bd4-56b8a21371dc",
   "metadata": {},
   "outputs": [
    {
     "data": {
      "text/plain": [
       "[3, 2, 6, 4, 5, 1]"
      ]
     },
     "execution_count": 12,
     "metadata": {},
     "output_type": "execute_result"
    }
   ],
   "source": [
    "b = Z7(3)\n",
    "[b^k for k in range(1, 7)]"
   ]
  },
  {
   "cell_type": "code",
   "execution_count": 13,
   "id": "381098f2-959e-406d-af77-9a474df2d306",
   "metadata": {},
   "outputs": [
    {
     "data": {
      "text/plain": [
       "[1, 2, 4, 7, 8, 11, 13, 14]"
      ]
     },
     "execution_count": 13,
     "metadata": {},
     "output_type": "execute_result"
    }
   ],
   "source": [
    "n = 15\n",
    "Zn = IntegerModRing(15)\n",
    "grupo = [a for a in Zn if gcd(a, n)==1]\n",
    "grupo"
   ]
  },
  {
   "cell_type": "code",
   "execution_count": 16,
   "id": "728bbc4e-cc0e-42a1-8d9a-896c967ae2b5",
   "metadata": {},
   "outputs": [
    {
     "data": {
      "text/plain": [
       "[1, 4, 2, 4, 4, 2, 4, 2]"
      ]
     },
     "execution_count": 16,
     "metadata": {},
     "output_type": "execute_result"
    }
   ],
   "source": [
    "[a.multiplicative_order() for a in grupo]"
   ]
  },
  {
   "cell_type": "code",
   "execution_count": 17,
   "id": "47ec479b-73ee-40d8-b25b-3e26e6c9ad26",
   "metadata": {},
   "outputs": [
    {
     "name": "stdout",
     "output_type": "stream",
     "text": [
      "Ring of integers modulo 15\n"
     ]
    }
   ],
   "source": [
    " print(Zn)"
   ]
  },
  {
   "cell_type": "code",
   "execution_count": 18,
   "id": "5260f789-645c-4046-9b6e-d2edf4a7deef",
   "metadata": {},
   "outputs": [
    {
     "data": {
      "text/plain": [
       "[0, 1, 2, 3, 4, 5, 6, 7, 8, 9, 10, 11, 12, 13, 14]"
      ]
     },
     "execution_count": 18,
     "metadata": {},
     "output_type": "execute_result"
    }
   ],
   "source": [
    "[a for a in Zn]"
   ]
  },
  {
   "cell_type": "code",
   "execution_count": 19,
   "id": "b248f15d-8551-4b24-906a-781494dd52e1",
   "metadata": {},
   "outputs": [
    {
     "data": {
      "text/plain": [
       "11"
      ]
     },
     "execution_count": 19,
     "metadata": {},
     "output_type": "execute_result"
    }
   ],
   "source": [
    "Zn(-4)"
   ]
  },
  {
   "cell_type": "code",
   "execution_count": 20,
   "id": "61121115-e71f-435e-b7bc-9c23dfea83e8",
   "metadata": {},
   "outputs": [
    {
     "data": {
      "text/plain": [
       "Ring of integers modulo 15"
      ]
     },
     "execution_count": 20,
     "metadata": {},
     "output_type": "execute_result"
    }
   ],
   "source": [
    "Zn"
   ]
  },
  {
   "cell_type": "code",
   "execution_count": 21,
   "id": "7db8b523-d158-4b48-8075-e97fa6009add",
   "metadata": {},
   "outputs": [],
   "source": [
    "a = Zn(2)"
   ]
  },
  {
   "cell_type": "code",
   "execution_count": 22,
   "id": "75bb8a78-1c04-45e2-8ac3-6a7b547f399c",
   "metadata": {},
   "outputs": [
    {
     "data": {
      "text/plain": [
       "4"
      ]
     },
     "execution_count": 22,
     "metadata": {},
     "output_type": "execute_result"
    }
   ],
   "source": [
    "a^(14)"
   ]
  },
  {
   "cell_type": "code",
   "execution_count": 23,
   "id": "12c785c8-8148-40bc-81a2-0274c6597e0c",
   "metadata": {},
   "outputs": [
    {
     "data": {
      "text/plain": [
       "1"
      ]
     },
     "execution_count": 23,
     "metadata": {},
     "output_type": "execute_result"
    }
   ],
   "source": [
    "n = 3826375632782301821877635\n",
    "a = 2\n",
    "gcd(a, n)"
   ]
  },
  {
   "cell_type": "code",
   "execution_count": 24,
   "id": "ab52f30a-e81c-4e02-8040-14e46d1e1197",
   "metadata": {},
   "outputs": [
    {
     "ename": "OverflowError",
     "evalue": "exponent must be at most 9223372036854775807",
     "output_type": "error",
     "traceback": [
      "\u001b[0;31m---------------------------------------------------------------------------\u001b[0m",
      "\u001b[0;31mOverflowError\u001b[0m                             Traceback (most recent call last)",
      "Cell \u001b[0;32mIn[24], line 1\u001b[0m\n\u001b[0;32m----> 1\u001b[0m (\u001b[43mInteger\u001b[49m\u001b[43m(\u001b[49m\u001b[38;5;241;43m2\u001b[39;49m\u001b[43m)\u001b[49m\u001b[38;5;241;43m*\u001b[39;49m\u001b[38;5;241;43m*\u001b[39;49m\u001b[43m(\u001b[49m\u001b[43mn\u001b[49m\u001b[38;5;241;43m-\u001b[39;49m\u001b[43mInteger\u001b[49m\u001b[43m(\u001b[49m\u001b[38;5;241;43m1\u001b[39;49m\u001b[43m)\u001b[49m\u001b[43m)\u001b[49m)\u001b[38;5;241m%\u001b[39mn\n",
      "File \u001b[0;32m/private/var/tmp/sage-10.4-current/local/var/lib/sage/venv-python3.12.4/lib/python3.12/site-packages/sage/rings/integer.pyx:2196\u001b[0m, in \u001b[0;36msage.rings.integer.Integer.__pow__ (build/cythonized/sage/rings/integer.c:25158)\u001b[0;34m()\u001b[0m\n\u001b[1;32m   2194\u001b[0m \n\u001b[1;32m   2195\u001b[0m         if type(left) is type(right):\n\u001b[0;32m-> 2196\u001b[0m             return (<Integer>left)._pow_(right)\n\u001b[1;32m   2197\u001b[0m         elif isinstance(left, Element):\n\u001b[1;32m   2198\u001b[0m             return coercion_model.bin_op(left, right, operator.pow)\n",
      "File \u001b[0;32m/private/var/tmp/sage-10.4-current/local/var/lib/sage/venv-python3.12.4/lib/python3.12/site-packages/sage/rings/integer.pyx:2276\u001b[0m, in \u001b[0;36msage.rings.integer.Integer._pow_ (build/cythonized/sage/rings/integer.c:25524)\u001b[0;34m()\u001b[0m\n\u001b[1;32m   2274\u001b[0m         r = smallInteger(1)\n\u001b[1;32m   2275\u001b[0m else:\n\u001b[0;32m-> 2276\u001b[0m     raise OverflowError(f\"exponent must be at most {LONG_MAX}\")\n\u001b[1;32m   2277\u001b[0m if mpz_sgn(exp) >= 0:\n\u001b[1;32m   2278\u001b[0m     return r\n",
      "\u001b[0;31mOverflowError\u001b[0m: exponent must be at most 9223372036854775807"
     ]
    }
   ],
   "source": [
    "(2^(n-1))%n"
   ]
  },
  {
   "cell_type": "code",
   "execution_count": 27,
   "id": "d9fb1ac2-5f95-4568-bfd9-452ead4db4b2",
   "metadata": {},
   "outputs": [
    {
     "data": {
      "text/plain": [
       "False"
      ]
     },
     "execution_count": 27,
     "metadata": {},
     "output_type": "execute_result"
    }
   ],
   "source": [
    "power_mod(2, n-1, n) == 1"
   ]
  },
  {
   "cell_type": "code",
   "execution_count": 28,
   "id": "c4c5278b-3a56-4ceb-bec4-ea1c63b807a1",
   "metadata": {},
   "outputs": [
    {
     "data": {
      "text/plain": [
       "1"
      ]
     },
     "execution_count": 28,
     "metadata": {},
     "output_type": "execute_result"
    }
   ],
   "source": [
    "power_mod(2, 340, 341)"
   ]
  },
  {
   "cell_type": "code",
   "execution_count": 29,
   "id": "d77df873-4289-43ee-8ce4-6a75cbe5719c",
   "metadata": {},
   "outputs": [
    {
     "data": {
      "text/plain": [
       "11 * 31"
      ]
     },
     "execution_count": 29,
     "metadata": {},
     "output_type": "execute_result"
    }
   ],
   "source": [
    "factor(341)"
   ]
  },
  {
   "cell_type": "code",
   "execution_count": null,
   "id": "bb7b9c1f-d3b1-4192-ba25-7119ae92d45a",
   "metadata": {},
   "outputs": [],
   "source": []
  }
 ],
 "metadata": {
  "kernelspec": {
   "display_name": "SageMath 10.4",
   "language": "sage",
   "name": "sagemath-10.4"
  },
  "language_info": {
   "codemirror_mode": {
    "name": "ipython",
    "version": 3
   },
   "file_extension": ".py",
   "mimetype": "text/x-python",
   "name": "python",
   "nbconvert_exporter": "python",
   "pygments_lexer": "ipython3",
   "version": "3.12.4"
  }
 },
 "nbformat": 4,
 "nbformat_minor": 5
}
