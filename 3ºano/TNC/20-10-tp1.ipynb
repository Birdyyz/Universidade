{
 "cells": [
  {
   "cell_type": "markdown",
   "id": "3c055103-3555-4c45-8f48-287734d1edc7",
   "metadata": {},
   "source": [
    "## Factorização $(p-1)$-Pollard"
   ]
  },
  {
   "cell_type": "code",
   "execution_count": 2,
   "id": "ba644f6c-54ce-44d0-9daf-474215f39391",
   "metadata": {},
   "outputs": [
    {
     "data": {
      "text/plain": [
       "997329919"
      ]
     },
     "execution_count": 2,
     "metadata": {},
     "output_type": "execute_result"
    }
   ],
   "source": [
    "n = next_prime(10^5)*previous_prime(10^4)\n",
    "n"
   ]
  },
  {
   "cell_type": "code",
   "execution_count": 3,
   "id": "5c319013-1732-484e-b749-2a4badf2606d",
   "metadata": {},
   "outputs": [
    {
     "data": {
      "text/plain": [
       "Ring of integers modulo 997329919"
      ]
     },
     "execution_count": 3,
     "metadata": {},
     "output_type": "execute_result"
    }
   ],
   "source": [
    "Zn = IntegerModRing(n)\n",
    "Zn"
   ]
  },
  {
   "cell_type": "code",
   "execution_count": 4,
   "id": "9efc25f4-4e3a-4990-94a9-426f992d2682",
   "metadata": {},
   "outputs": [],
   "source": [
    "r = Zn(2)"
   ]
  },
  {
   "cell_type": "code",
   "execution_count": 7,
   "id": "718a36ba-c246-4547-9b1a-8320a40af23f",
   "metadata": {},
   "outputs": [
    {
     "data": {
      "text/plain": [
       "True"
      ]
     },
     "execution_count": 7,
     "metadata": {},
     "output_type": "execute_result"
    }
   ],
   "source": [
    "gcd(r-1, n) == 1"
   ]
  },
  {
   "cell_type": "code",
   "execution_count": 8,
   "id": "38e6cfd0-94a2-46fe-ab06-b84a1ca945f8",
   "metadata": {},
   "outputs": [
    {
     "data": {
      "text/plain": [
       "1"
      ]
     },
     "execution_count": 8,
     "metadata": {},
     "output_type": "execute_result"
    }
   ],
   "source": [
    "#r2\n",
    "r = r^2\n",
    "gcd(r-1, n)"
   ]
  },
  {
   "cell_type": "code",
   "execution_count": 9,
   "id": "ef6ef3d4-084e-44ae-942b-80244745544a",
   "metadata": {},
   "outputs": [
    {
     "data": {
      "text/plain": [
       "1"
      ]
     },
     "execution_count": 9,
     "metadata": {},
     "output_type": "execute_result"
    }
   ],
   "source": [
    "#r3 \n",
    "r = r^3\n",
    "gcd(r-1, n)"
   ]
  },
  {
   "cell_type": "code",
   "execution_count": 10,
   "id": "0a24eac2-422f-423d-99d7-2a3998cdaebc",
   "metadata": {},
   "outputs": [
    {
     "data": {
      "text/plain": [
       "1"
      ]
     },
     "execution_count": 10,
     "metadata": {},
     "output_type": "execute_result"
    }
   ],
   "source": [
    "#r4\n",
    "r = r^4\n",
    "gcd(r-1, n)"
   ]
  },
  {
   "cell_type": "code",
   "execution_count": 14,
   "id": "b3db32e4-1363-4343-ac77-d5b40a04302a",
   "metadata": {},
   "outputs": [
    {
     "name": "stdout",
     "output_type": "stream",
     "text": [
      "Um factor de n= 997329919  é  9973 \n",
      "usei  277 iterações\n"
     ]
    }
   ],
   "source": [
    "r = Zn(2)\n",
    "i = 1\n",
    "while gcd(r-1, n) == 1:\n",
    "    i += 1\n",
    "    r = r^i\n",
    "print(\"Um factor de n=\", n, \" é \",gcd(r-1, n),\"\\nusei \", i, \"iterações\")"
   ]
  },
  {
   "cell_type": "code",
   "execution_count": 15,
   "id": "e03dba9c-2f15-4c18-b123-ef2ba66226ba",
   "metadata": {},
   "outputs": [],
   "source": [
    "def p_Pollard(n):\n",
    "    r = mod(2, n)\n",
    "    i = 1\n",
    "    while gcd(r-1, n) == 1:\n",
    "        i += 1\n",
    "        r = r^i\n",
    "    fact = gcd(r-1, n)\n",
    "    print(\"Um factor de n=\", n, \" é \",fact,\"\\nusei \", i, \"iterações\")\n",
    "    return fact"
   ]
  },
  {
   "cell_type": "code",
   "execution_count": 20,
   "id": "b6ed65f9-1868-4afb-b607-6f2eca148925",
   "metadata": {},
   "outputs": [
    {
     "name": "stdout",
     "output_type": "stream",
     "text": [
      "Um factor de n= 11137791655  é  85 \n",
      "usei  4 iterações\n"
     ]
    },
    {
     "data": {
      "text/plain": [
       "85"
      ]
     },
     "execution_count": 20,
     "metadata": {},
     "output_type": "execute_result"
    }
   ],
   "source": [
    "p_Pollard(14555*765221)"
   ]
  },
  {
   "cell_type": "markdown",
   "id": "3a7fd942-7a99-4bc9-b0fb-a6b579ee3ae1",
   "metadata": {},
   "source": [
    "## Teste de Miller"
   ]
  },
  {
   "cell_type": "code",
   "execution_count": 21,
   "id": "d3957063-3089-420c-980a-a6b9e0866ac9",
   "metadata": {},
   "outputs": [
    {
     "data": {
      "text/plain": [
       "[0, 1, 4, 9, 16, 8, 2, 15, 13, 13, 15, 2, 8, 16, 9, 4, 1]"
      ]
     },
     "execution_count": 21,
     "metadata": {},
     "output_type": "execute_result"
    }
   ],
   "source": [
    "n = 17\n",
    "[x^2 for x in IntegerModRing(n)]"
   ]
  },
  {
   "cell_type": "code",
   "execution_count": 22,
   "id": "04ddeb3c-b31d-4b5c-a957-6c9c8c30895c",
   "metadata": {},
   "outputs": [
    {
     "data": {
      "text/plain": [
       "[0, 1, 4, 9, 16, 4, 15, 7, 1, 18, 16, 16, 18, 1, 7, 15, 4, 16, 9, 4, 1]"
      ]
     },
     "execution_count": 22,
     "metadata": {},
     "output_type": "execute_result"
    }
   ],
   "source": [
    "n = 21\n",
    "[x^2 for x in IntegerModRing(n)]"
   ]
  },
  {
   "cell_type": "code",
   "execution_count": 23,
   "id": "0d14dc50-4ef5-4082-a953-f798a1d7e603",
   "metadata": {},
   "outputs": [
    {
     "data": {
      "text/plain": [
       "True"
      ]
     },
     "execution_count": 23,
     "metadata": {},
     "output_type": "execute_result"
    }
   ],
   "source": [
    "s, t = 2, 5\n",
    "2^s*t == n-1"
   ]
  },
  {
   "cell_type": "code",
   "execution_count": 24,
   "id": "914aee3a-bc0f-47d2-9bc6-4ae418a84c3f",
   "metadata": {},
   "outputs": [
    {
     "data": {
      "text/plain": [
       "Ring of integers modulo 21"
      ]
     },
     "execution_count": 24,
     "metadata": {},
     "output_type": "execute_result"
    }
   ],
   "source": [
    "Zn = IntegerModRing(n)\n",
    "Zn"
   ]
  },
  {
   "cell_type": "code",
   "execution_count": 25,
   "id": "fc116f7d-651b-4f73-8719-b151d9070dd3",
   "metadata": {},
   "outputs": [],
   "source": [
    "b = Zn(2)"
   ]
  },
  {
   "cell_type": "code",
   "execution_count": 26,
   "id": "1bf9e2c3-9bbb-4a67-a8b7-e44abcd1d6b1",
   "metadata": {},
   "outputs": [
    {
     "data": {
      "text/plain": [
       "4"
      ]
     },
     "execution_count": 26,
     "metadata": {},
     "output_type": "execute_result"
    }
   ],
   "source": [
    "b^(n-1)"
   ]
  },
  {
   "cell_type": "code",
   "execution_count": 27,
   "id": "ae838a8c-bbb0-4d72-8c1a-daea41b9ee84",
   "metadata": {},
   "outputs": [
    {
     "data": {
      "text/plain": [
       "True"
      ]
     },
     "execution_count": 27,
     "metadata": {},
     "output_type": "execute_result"
    }
   ],
   "source": [
    "n = 341\n",
    "power_mod(2, 340, 341) == 1"
   ]
  },
  {
   "cell_type": "code",
   "execution_count": 28,
   "id": "a56c8f2a-d2b7-4637-871f-dba65a5ff2db",
   "metadata": {},
   "outputs": [
    {
     "data": {
      "text/plain": [
       "False"
      ]
     },
     "execution_count": 28,
     "metadata": {},
     "output_type": "execute_result"
    }
   ],
   "source": [
    "is_prime(341)"
   ]
  },
  {
   "cell_type": "code",
   "execution_count": 29,
   "id": "a3be1cde-a4e5-41bf-82c7-2cfc640f1f33",
   "metadata": {},
   "outputs": [],
   "source": [
    "n = 341"
   ]
  },
  {
   "cell_type": "code",
   "execution_count": 41,
   "id": "99213083-afda-4cbe-97c7-1a5527ac613e",
   "metadata": {},
   "outputs": [
    {
     "data": {
      "text/plain": [
       "(2, 85)"
      ]
     },
     "execution_count": 41,
     "metadata": {},
     "output_type": "execute_result"
    }
   ],
   "source": [
    "s = 1\n",
    "while (n-1)%(2^s) == 0:\n",
    "    s+=1\n",
    "s = s-1\n",
    "t = (n-1)/(2^s)\n",
    "s, t"
   ]
  },
  {
   "cell_type": "code",
   "execution_count": 43,
   "id": "94c7b2a0-3956-4f02-9818-314eea62d13e",
   "metadata": {},
   "outputs": [],
   "source": [
    "Zn = IntegerModRing(n)"
   ]
  },
  {
   "cell_type": "code",
   "execution_count": 44,
   "id": "d7feaf98-0fb8-4890-9d59-6714cc6353cb",
   "metadata": {},
   "outputs": [],
   "source": [
    "b = Zn(2)"
   ]
  },
  {
   "cell_type": "code",
   "execution_count": 45,
   "id": "1903995b-006f-4e22-8bc1-93471394a2ae",
   "metadata": {},
   "outputs": [
    {
     "data": {
      "text/plain": [
       "1"
      ]
     },
     "execution_count": 45,
     "metadata": {},
     "output_type": "execute_result"
    }
   ],
   "source": [
    "b^(n-1)"
   ]
  },
  {
   "cell_type": "code",
   "execution_count": 46,
   "id": "c09c88b7-5646-4844-83b9-1ace55934173",
   "metadata": {},
   "outputs": [
    {
     "data": {
      "text/plain": [
       "1"
      ]
     },
     "execution_count": 46,
     "metadata": {},
     "output_type": "execute_result"
    }
   ],
   "source": [
    "b^((n-1)//2)"
   ]
  },
  {
   "cell_type": "code",
   "execution_count": 47,
   "id": "683319e4-5e7a-4ef6-a200-89b308cf0a08",
   "metadata": {},
   "outputs": [
    {
     "data": {
      "text/plain": [
       "32"
      ]
     },
     "execution_count": 47,
     "metadata": {},
     "output_type": "execute_result"
    }
   ],
   "source": [
    "b^((n-1)//2^2)"
   ]
  },
  {
   "cell_type": "code",
   "execution_count": 55,
   "id": "97096174-13c3-4398-aa48-aebd6c8d6c9c",
   "metadata": {},
   "outputs": [],
   "source": [
    "s, t = 10, 15\n",
    "n = 2^s*t+1"
   ]
  },
  {
   "cell_type": "code",
   "execution_count": 56,
   "id": "545ba165-2b1e-410b-9103-d5b30f1c091b",
   "metadata": {},
   "outputs": [
    {
     "data": {
      "text/plain": [
       "15361"
      ]
     },
     "execution_count": 56,
     "metadata": {},
     "output_type": "execute_result"
    }
   ],
   "source": [
    "n"
   ]
  },
  {
   "cell_type": "code",
   "execution_count": 57,
   "id": "4e6e3a0a-26a6-47be-98b9-f00266a31764",
   "metadata": {},
   "outputs": [],
   "source": [
    "Zn = IntegerModRing(n)"
   ]
  },
  {
   "cell_type": "code",
   "execution_count": 58,
   "id": "2e93b2d7-9eaf-4ce4-9a81-4dbb4e4bc8b2",
   "metadata": {},
   "outputs": [],
   "source": [
    "b = Zn(2)"
   ]
  },
  {
   "cell_type": "code",
   "execution_count": 59,
   "id": "541d3292-6741-487e-925c-9330f9de64fe",
   "metadata": {},
   "outputs": [
    {
     "data": {
      "text/plain": [
       "[2046, 7924, 9369, 5407, 3666, 14042, 3968, 15360, 1, 1, 1]"
      ]
     },
     "execution_count": 59,
     "metadata": {},
     "output_type": "execute_result"
    }
   ],
   "source": [
    "seq_B = [(b^t)^(2^j   for j in range(0, s+1)]\n",
    "seq_B"
   ]
  },
  {
   "cell_type": "code",
   "execution_count": 60,
   "id": "6dcb7cc8-7bb1-40cc-99ea-2f86f464fcbd",
   "metadata": {},
   "outputs": [
    {
     "data": {
      "text/plain": [
       "[1733, 7894, 11020, 11695, 14042, 3968, 15360, 1, 1, 1, 1]"
      ]
     },
     "execution_count": 60,
     "metadata": {},
     "output_type": "execute_result"
    }
   ],
   "source": [
    "seq_B3 = [(Zn(3)^t)^(2^j)   for j in range(0, s+1)]\n",
    "seq_B3"
   ]
  },
  {
   "cell_type": "code",
   "execution_count": 61,
   "id": "797e14cb-13ef-4acf-bf2b-954cd14eb12f",
   "metadata": {},
   "outputs": [
    {
     "data": {
      "text/plain": [
       "[2313, 4341, 11695, 14042, 3968, 15360, 1, 1, 1, 1, 1]"
      ]
     },
     "execution_count": 61,
     "metadata": {},
     "output_type": "execute_result"
    }
   ],
   "source": [
    "seq_B5 = [(Zn(5)^t)^(2^j)   for j in range(0, s+1)]\n",
    "seq_B5"
   ]
  },
  {
   "cell_type": "code",
   "execution_count": 67,
   "id": "69d088eb-8073-4154-a93a-e3bb10a9e626",
   "metadata": {},
   "outputs": [],
   "source": [
    "def decomp(n):\n",
    "    s = 1\n",
    "    t = n//2\n",
    "    while is_even(t):\n",
    "        s += 1\n",
    "        t = t//2\n",
    "    return s, t\n",
    "\n",
    "def Miller(n, b = 2):\n",
    "    b = mod(b, n)\n",
    "    s, t = decomp(n-1)\n",
    "    if b^t == 1:\n",
    "        return True\n",
    "    j = 0\n",
    "    while b^(2^j*t) != mod(-1, n) and j<= s-1:\n",
    "        j += 1\n",
    "    return j != s"
   ]
  },
  {
   "cell_type": "code",
   "execution_count": 71,
   "id": "32c3cd5d-5796-4882-a14a-7554a0443f83",
   "metadata": {},
   "outputs": [
    {
     "data": {
      "text/plain": [
       "True"
      ]
     },
     "execution_count": 71,
     "metadata": {},
     "output_type": "execute_result"
    }
   ],
   "source": [
    "Miller(2047)"
   ]
  },
  {
   "cell_type": "code",
   "execution_count": 72,
   "id": "920935b5-3ef4-4d4b-a828-3f9130b850ca",
   "metadata": {},
   "outputs": [
    {
     "data": {
      "text/plain": [
       "False"
      ]
     },
     "execution_count": 72,
     "metadata": {},
     "output_type": "execute_result"
    }
   ],
   "source": [
    "Miller(2047, 3)"
   ]
  },
  {
   "cell_type": "code",
   "execution_count": null,
   "id": "eb1c44ec-6393-45a3-bc10-d7794622692f",
   "metadata": {},
   "outputs": [],
   "source": []
  }
 ],
 "metadata": {
  "kernelspec": {
   "display_name": "SageMath 10.4",
   "language": "sage",
   "name": "sagemath-10.4"
  },
  "language_info": {
   "codemirror_mode": {
    "name": "ipython",
    "version": 3
   },
   "file_extension": ".py",
   "mimetype": "text/x-python",
   "name": "python",
   "nbconvert_exporter": "python",
   "pygments_lexer": "ipython3",
   "version": "3.12.4"
  }
 },
 "nbformat": 4,
 "nbformat_minor": 5
}
