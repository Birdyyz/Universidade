{
 "cells": [
  {
   "cell_type": "markdown",
   "id": "58e81b51-1a03-47a0-abf6-dcbfaae6b32a",
   "metadata": {},
   "source": [
    "## Factorização de Fermat"
   ]
  },
  {
   "cell_type": "code",
   "execution_count": 1,
   "id": "64d5f13a-cd49-4265-8ed9-2574825e5d82",
   "metadata": {},
   "outputs": [],
   "source": [
    "n = 3713"
   ]
  },
  {
   "cell_type": "code",
   "execution_count": 2,
   "id": "9e29cf59-fdb7-49ab-a5fa-8305eeb8d167",
   "metadata": {},
   "outputs": [
    {
     "data": {
      "text/plain": [
       "61"
      ]
     },
     "execution_count": 2,
     "metadata": {},
     "output_type": "execute_result"
    }
   ],
   "source": [
    "t = ceil(sqrt(n))\n",
    "t"
   ]
  },
  {
   "cell_type": "code",
   "execution_count": 3,
   "id": "ac71c23d-f81f-4f41-84df-75e6fa03cc4e",
   "metadata": {},
   "outputs": [
    {
     "data": {
      "text/plain": [
       "False"
      ]
     },
     "execution_count": 3,
     "metadata": {},
     "output_type": "execute_result"
    }
   ],
   "source": [
    "is_square(t^2-n)"
   ]
  },
  {
   "cell_type": "code",
   "execution_count": 5,
   "id": "4b183695-5cca-444c-8c8a-2cefcf7a4438",
   "metadata": {},
   "outputs": [
    {
     "data": {
      "text/plain": [
       "62"
      ]
     },
     "execution_count": 5,
     "metadata": {},
     "output_type": "execute_result"
    }
   ],
   "source": [
    "t+=1\n",
    "t"
   ]
  },
  {
   "cell_type": "code",
   "execution_count": 6,
   "id": "00f0bf64-1d44-470f-8228-773f5fc65120",
   "metadata": {},
   "outputs": [
    {
     "data": {
      "text/plain": [
       "False"
      ]
     },
     "execution_count": 6,
     "metadata": {},
     "output_type": "execute_result"
    }
   ],
   "source": [
    "is_square(t^2-n)"
   ]
  },
  {
   "cell_type": "code",
   "execution_count": 7,
   "id": "48471f91-f887-4055-a5cb-edb7400473e8",
   "metadata": {},
   "outputs": [],
   "source": [
    "t+=1"
   ]
  },
  {
   "cell_type": "code",
   "execution_count": 8,
   "id": "e1e5fa26-a5cd-420c-836f-629558f52b49",
   "metadata": {},
   "outputs": [
    {
     "data": {
      "text/plain": [
       "True"
      ]
     },
     "execution_count": 8,
     "metadata": {},
     "output_type": "execute_result"
    }
   ],
   "source": [
    "is_square(t^2-n)"
   ]
  },
  {
   "cell_type": "code",
   "execution_count": 9,
   "id": "7cb3c0e3-669c-4f2f-896d-cfe6aa6afafe",
   "metadata": {},
   "outputs": [
    {
     "data": {
      "text/plain": [
       "16"
      ]
     },
     "execution_count": 9,
     "metadata": {},
     "output_type": "execute_result"
    }
   ],
   "source": [
    "s = sqrt(t^2-n)\n",
    "s"
   ]
  },
  {
   "cell_type": "code",
   "execution_count": 10,
   "id": "bd1dcac7-27c4-4775-a585-f3ac80efd758",
   "metadata": {},
   "outputs": [],
   "source": [
    "p, q = t-s, t+s"
   ]
  },
  {
   "cell_type": "code",
   "execution_count": 11,
   "id": "14a009f4-f8b6-4ad4-8c52-03d2ec32bcc2",
   "metadata": {},
   "outputs": [
    {
     "data": {
      "text/plain": [
       "True"
      ]
     },
     "execution_count": 11,
     "metadata": {},
     "output_type": "execute_result"
    }
   ],
   "source": [
    "n == p*q"
   ]
  },
  {
   "cell_type": "code",
   "execution_count": 12,
   "id": "03d359ef-a8b1-4ec0-9833-368b4f2d5dd6",
   "metadata": {},
   "outputs": [
    {
     "data": {
      "text/plain": [
       "(47, 79)"
      ]
     },
     "execution_count": 12,
     "metadata": {},
     "output_type": "execute_result"
    }
   ],
   "source": [
    "p, q"
   ]
  },
  {
   "cell_type": "code",
   "execution_count": 13,
   "id": "51f2334f-5c83-45e4-bee9-2cafd6179805",
   "metadata": {},
   "outputs": [],
   "source": [
    "def fact_fermat(n):\n",
    "    t = ceil(sqrt(n))\n",
    "    while not is_square(t^2-n):\n",
    "        t = t+1\n",
    "    s = sqrt(t^2-n)\n",
    "    return t-s, t+s"
   ]
  },
  {
   "cell_type": "code",
   "execution_count": 14,
   "id": "8889a98f-7acb-47db-b4fc-3b6eceec91ce",
   "metadata": {},
   "outputs": [
    {
     "data": {
      "text/plain": [
       "(47, 79)"
      ]
     },
     "execution_count": 14,
     "metadata": {},
     "output_type": "execute_result"
    }
   ],
   "source": [
    "fact_fermat(3713)"
   ]
  },
  {
   "cell_type": "code",
   "execution_count": 15,
   "id": "f6f61809-9676-43e4-8a2b-48e0ab50e1d1",
   "metadata": {},
   "outputs": [
    {
     "data": {
      "text/plain": [
       "(3, 2003)"
      ]
     },
     "execution_count": 15,
     "metadata": {},
     "output_type": "execute_result"
    }
   ],
   "source": [
    "fact_fermat(6009)"
   ]
  },
  {
   "cell_type": "code",
   "execution_count": 16,
   "id": "fb414d53-92aa-4004-9f17-237ecd2793e6",
   "metadata": {},
   "outputs": [],
   "source": [
    "p = random_prime(2^1024, 2^1023)\n",
    "q = next_prime(p+10000)\n",
    "n = p*q"
   ]
  },
  {
   "cell_type": "code",
   "execution_count": 17,
   "id": "a799bd6d-04c9-41a2-984a-ca1c7ebc33b3",
   "metadata": {},
   "outputs": [
    {
     "data": {
      "text/plain": [
       "(107740324260917711334500161767198812785408414064440290932077275990674921437907597712560561643208650310633057959768683246699161604498428176019828427019933522505695195772672301321080898406620118487399151980891640458709357825933071130860062599233660553101487336619009689955084399881248230339153225678119073623377,\n",
       " 107740324260917711334500161767198812785408414064440290932077275990674921437907597712560561643208650310633057959768683246699161604498428176019828427019933522505695195772672301321080898406620118487399151980891640458709357825933071130860062599233660553101487336619009689955084399881248230339153225678119073634843)"
      ]
     },
     "execution_count": 17,
     "metadata": {},
     "output_type": "execute_result"
    }
   ],
   "source": [
    "fact_fermat(n)"
   ]
  },
  {
   "cell_type": "code",
   "execution_count": 18,
   "id": "85e832d3-5564-40b6-b065-758c0e0db18b",
   "metadata": {},
   "outputs": [],
   "source": [
    "p = random_prime(2^1024, 2^1023)\n",
    "q = random_prime(2^1025, 2^1024)\n",
    "n = p*q"
   ]
  },
  {
   "cell_type": "code",
   "execution_count": 19,
   "id": "bb722c92-a1e5-4204-8bca-6dbfb711395e",
   "metadata": {},
   "outputs": [
    {
     "ename": "KeyboardInterrupt",
     "evalue": "",
     "output_type": "error",
     "traceback": [
      "\u001b[0;31m---------------------------------------------------------------------------\u001b[0m",
      "\u001b[0;31mKeyboardInterrupt\u001b[0m                         Traceback (most recent call last)",
      "Cell \u001b[0;32mIn[19], line 1\u001b[0m\n\u001b[0;32m----> 1\u001b[0m \u001b[43mfact_fermat\u001b[49m\u001b[43m(\u001b[49m\u001b[43mn\u001b[49m\u001b[43m)\u001b[49m\n",
      "Cell \u001b[0;32mIn[13], line 3\u001b[0m, in \u001b[0;36mfact_fermat\u001b[0;34m(n)\u001b[0m\n\u001b[1;32m      1\u001b[0m \u001b[38;5;28;01mdef\u001b[39;00m \u001b[38;5;21mfact_fermat\u001b[39m(n):\n\u001b[1;32m      2\u001b[0m     t \u001b[38;5;241m=\u001b[39m ceil(sqrt(n))\n\u001b[0;32m----> 3\u001b[0m     \u001b[38;5;28;01mwhile\u001b[39;00m \u001b[38;5;129;01mnot\u001b[39;00m is_square(\u001b[43mt\u001b[49m\u001b[38;5;241;43m*\u001b[39;49m\u001b[38;5;241;43m*\u001b[39;49m\u001b[43mInteger\u001b[49m\u001b[43m(\u001b[49m\u001b[38;5;241;43m2\u001b[39;49m\u001b[43m)\u001b[49m\u001b[38;5;241m-\u001b[39mn):\n\u001b[1;32m      4\u001b[0m         t \u001b[38;5;241m=\u001b[39m t\u001b[38;5;241m+\u001b[39mInteger(\u001b[38;5;241m1\u001b[39m)\n\u001b[1;32m      5\u001b[0m     s \u001b[38;5;241m=\u001b[39m sqrt(t\u001b[38;5;241m*\u001b[39m\u001b[38;5;241m*\u001b[39mInteger(\u001b[38;5;241m2\u001b[39m)\u001b[38;5;241m-\u001b[39mn)\n",
      "File \u001b[0;32m/private/var/tmp/sage-10.4-current/local/var/lib/sage/venv-python3.12.4/lib/python3.12/site-packages/sage/rings/integer.pyx:2196\u001b[0m, in \u001b[0;36msage.rings.integer.Integer.__pow__ (build/cythonized/sage/rings/integer.c:25158)\u001b[0;34m()\u001b[0m\n\u001b[1;32m   2194\u001b[0m \n\u001b[1;32m   2195\u001b[0m         if type(left) is type(right):\n\u001b[0;32m-> 2196\u001b[0m             return (<Integer>left)._pow_(right)\n\u001b[1;32m   2197\u001b[0m         elif isinstance(left, Element):\n\u001b[1;32m   2198\u001b[0m             return coercion_model.bin_op(left, right, operator.pow)\n",
      "File \u001b[0;32m/private/var/tmp/sage-10.4-current/local/var/lib/sage/venv-python3.12.4/lib/python3.12/site-packages/sage/rings/integer.pyx:2260\u001b[0m, in \u001b[0;36msage.rings.integer.Integer._pow_ (build/cythonized/sage/rings/integer.c:25366)\u001b[0;34m()\u001b[0m\n\u001b[1;32m   2258\u001b[0m \n\u001b[1;32m   2259\u001b[0m         if mpz_fits_slong_p(exp):\n\u001b[0;32m-> 2260\u001b[0m             return self._pow_long(mpz_get_si(exp))\n\u001b[1;32m   2261\u001b[0m \n\u001b[1;32m   2262\u001b[0m         # Raising to an exponent which doesn't fit in a long overflows\n",
      "File \u001b[0;32m/private/var/tmp/sage-10.4-current/local/var/lib/sage/venv-python3.12.4/lib/python3.12/site-packages/sage/rings/integer.pyx:2292\u001b[0m, in \u001b[0;36msage.rings.integer.Integer._pow_long (build/cythonized/sage/rings/integer.c:25832)\u001b[0;34m()\u001b[0m\n\u001b[1;32m   2290\u001b[0m if n > 0:\n\u001b[1;32m   2291\u001b[0m     x = PY_NEW(Integer)\n\u001b[0;32m-> 2292\u001b[0m     sig_on()\n\u001b[1;32m   2293\u001b[0m     mpz_pow_ui(x.value, self.value, n)\n\u001b[1;32m   2294\u001b[0m     sig_off()\n",
      "\u001b[0;31mKeyboardInterrupt\u001b[0m: "
     ]
    }
   ],
   "source": [
    "fact_fermat(n)"
   ]
  },
  {
   "cell_type": "markdown",
   "id": "9de316be-81a6-4b12-af63-dee017d73b16",
   "metadata": {},
   "source": [
    "## Aplicações do TCR"
   ]
  },
  {
   "cell_type": "code",
   "execution_count": 20,
   "id": "1db9a7bd-cb7e-4561-90c3-24f75e2926ac",
   "metadata": {},
   "outputs": [],
   "source": [
    "n1 = 10\n",
    "n2 = 9"
   ]
  },
  {
   "cell_type": "code",
   "execution_count": 21,
   "id": "d7191412-301f-430d-ae1d-db4fededff29",
   "metadata": {},
   "outputs": [],
   "source": [
    "a1, a2 = 2, 3\n",
    "b1, b2 = 5, 8"
   ]
  },
  {
   "cell_type": "code",
   "execution_count": 22,
   "id": "e0de03a0-0c0b-4d35-ad92-ce6048dc74de",
   "metadata": {},
   "outputs": [
    {
     "data": {
      "text/plain": [
       "(2, 3)"
      ]
     },
     "execution_count": 22,
     "metadata": {},
     "output_type": "execute_result"
    }
   ],
   "source": [
    "a = 12\n",
    "mod (a, n1), mod(a, n2)"
   ]
  },
  {
   "cell_type": "code",
   "execution_count": 24,
   "id": "d2566c61-8d38-4a68-96c5-5e618e573c17",
   "metadata": {},
   "outputs": [
    {
     "data": {
      "text/plain": [
       "35"
      ]
     },
     "execution_count": 24,
     "metadata": {},
     "output_type": "execute_result"
    }
   ],
   "source": [
    "b = crt(b1, b2, n1, n2)\n",
    "b"
   ]
  },
  {
   "cell_type": "code",
   "execution_count": 25,
   "id": "91487103-1e2c-43ad-897d-e0eb20e4d24f",
   "metadata": {},
   "outputs": [
    {
     "data": {
      "text/plain": [
       "47"
      ]
     },
     "execution_count": 25,
     "metadata": {},
     "output_type": "execute_result"
    }
   ],
   "source": [
    "crt(7, 2, n1, n2)"
   ]
  },
  {
   "cell_type": "code",
   "execution_count": 26,
   "id": "38e9e8af-9f7f-4645-a1f1-d8acf263ef7d",
   "metadata": {},
   "outputs": [],
   "source": [
    "n3 = 7"
   ]
  },
  {
   "cell_type": "code",
   "execution_count": 28,
   "id": "6303f6ea-7d67-493f-9bd5-a815c9ff2619",
   "metadata": {},
   "outputs": [
    {
     "data": {
      "text/plain": [
       "630"
      ]
     },
     "execution_count": 28,
     "metadata": {},
     "output_type": "execute_result"
    }
   ],
   "source": [
    "N = n1*n2*n3\n",
    "N"
   ]
  },
  {
   "cell_type": "code",
   "execution_count": 29,
   "id": "06968bcc-eb9c-4d90-a15b-4eb705afb616",
   "metadata": {},
   "outputs": [],
   "source": [
    "a, b = 12, 35"
   ]
  },
  {
   "cell_type": "code",
   "execution_count": 30,
   "id": "ca93f31f-9f24-4cd4-9071-7cb80baed033",
   "metadata": {},
   "outputs": [],
   "source": [
    "a1, a2, a3 = mod(a, n1), mod(a, n2), mod(a, n3)\n",
    "b1, b2, b3 = mod(b, n1), mod(b, n2), mod(b, n3)"
   ]
  },
  {
   "cell_type": "code",
   "execution_count": 31,
   "id": "1296bb21-890a-4eb4-9718-13717ad2db31",
   "metadata": {},
   "outputs": [
    {
     "data": {
      "text/plain": [
       "(2, 3, 5)"
      ]
     },
     "execution_count": 31,
     "metadata": {},
     "output_type": "execute_result"
    }
   ],
   "source": [
    "a1, a2, a3"
   ]
  },
  {
   "cell_type": "code",
   "execution_count": 32,
   "id": "33b6a7b2-b97a-4ade-b581-815d97c79c03",
   "metadata": {},
   "outputs": [
    {
     "data": {
      "text/plain": [
       "(5, 8, 0)"
      ]
     },
     "execution_count": 32,
     "metadata": {},
     "output_type": "execute_result"
    }
   ],
   "source": [
    "b1, b2, b3"
   ]
  },
  {
   "cell_type": "code",
   "execution_count": 35,
   "id": "005d1ed6-4b2f-4e33-b38e-3841f6a79170",
   "metadata": {},
   "outputs": [
    {
     "data": {
      "text/plain": [
       "(0, 6, 0)"
      ]
     },
     "execution_count": 35,
     "metadata": {},
     "output_type": "execute_result"
    }
   ],
   "source": [
    "c1 = ZZ(a1*b1)\n",
    "c2 = ZZ(a2*b2)\n",
    "c3 = ZZ(a3*b3)\n",
    "c1, c2, c3"
   ]
  },
  {
   "cell_type": "code",
   "execution_count": 36,
   "id": "32749699-4e49-43c5-bbd5-66cfdf6dc7ed",
   "metadata": {},
   "outputs": [
    {
     "data": {
      "text/plain": [
       "420"
      ]
     },
     "execution_count": 36,
     "metadata": {},
     "output_type": "execute_result"
    }
   ],
   "source": [
    "crt(crt(c1, c2, n1, n2), c3, n1*n2, n3)"
   ]
  },
  {
   "cell_type": "code",
   "execution_count": 37,
   "id": "3404c121-6d8d-4d40-8df8-2963ace957e3",
   "metadata": {},
   "outputs": [
    {
     "data": {
      "text/plain": [
       "420"
      ]
     },
     "execution_count": 37,
     "metadata": {},
     "output_type": "execute_result"
    }
   ],
   "source": [
    "12*35"
   ]
  },
  {
   "cell_type": "code",
   "execution_count": null,
   "id": "9ad17d57-f730-476a-b6ff-342fa54bfbaa",
   "metadata": {},
   "outputs": [],
   "source": []
  }
 ],
 "metadata": {
  "kernelspec": {
   "display_name": "SageMath 10.4",
   "language": "sage",
   "name": "sagemath-10.4"
  },
  "language_info": {
   "codemirror_mode": {
    "name": "ipython",
    "version": 3
   },
   "file_extension": ".py",
   "mimetype": "text/x-python",
   "name": "python",
   "nbconvert_exporter": "python",
   "pygments_lexer": "ipython3",
   "version": "3.12.4"
  }
 },
 "nbformat": 4,
 "nbformat_minor": 5
}
