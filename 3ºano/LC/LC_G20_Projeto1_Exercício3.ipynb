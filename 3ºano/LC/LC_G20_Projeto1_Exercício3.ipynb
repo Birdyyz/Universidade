{
 "cells": [
  {
   "cell_type": "markdown",
   "id": "317cd84a",
   "metadata": {},
   "source": [
    "# Exercício 3 - Projeto 1 - Lógica Computacional"
   ]
  },
  {
   "cell_type": "markdown",
   "id": "52168393",
   "metadata": {},
   "source": [
    "Grupo G20\n",
    "\n",
    "Nome: Lara Catarina Vilaça Lopes ;\n",
    "Número de Aluno: a108655\n",
    "\n",
    "Nome: Fábio Mendes Castelhano ;\n",
    "Número de Aluno: a105728"
   ]
  },
  {
   "cell_type": "markdown",
   "id": "3f647910",
   "metadata": {},
   "source": [
    "## 1. Abordagem utilizada para resolver o problema"
   ]
  },
  {
   "cell_type": "markdown",
   "id": "9c53629f",
   "metadata": {},
   "source": [
    "1. Utilização da biblioteca OR-Tools"
   ]
  },
  {
   "cell_type": "code",
   "execution_count": 1,
   "id": "8a37831f",
   "metadata": {},
   "outputs": [],
   "source": [
    "# Importação da biblioteca OR-Tools\n",
    "from ortools.linear_solver import pywraplp"
   ]
  },
  {
   "cell_type": "markdown",
   "id": "89a87cc2",
   "metadata": {},
   "source": [
    "2. Criar a instância do solver"
   ]
  },
  {
   "cell_type": "code",
   "execution_count": 2,
   "id": "88819bef",
   "metadata": {},
   "outputs": [],
   "source": [
    "solver = pywraplp.Solver.CreateSolver('SCIP')\n",
    "\n",
    "# Definição dos parâmetros do problema, definidos pelo usuário\n",
    "n = 5\n",
    "m = 10 # Lembrar que m >= 2*n\n",
    "q = 13 # Lembrar que q é primo e q >> m\n"
   ]
  },
  {
   "cell_type": "markdown",
   "id": "61e81286",
   "metadata": {},
   "source": [
    "3. Funções auxiliares para facilitar no momento da resolução do problema"
   ]
  },
  {
   "cell_type": "markdown",
   "id": "9cbdce26",
   "metadata": {},
   "source": [
    "Uso da biblioteca random"
   ]
  },
  {
   "cell_type": "code",
   "execution_count": 3,
   "id": "6916c55c",
   "metadata": {},
   "outputs": [],
   "source": [
    "import random"
   ]
  },
  {
   "cell_type": "markdown",
   "id": "bcf30550",
   "metadata": {},
   "source": [
    "Função geraMatriz, para gerar a matriz **H**, que tem **m** linhas e **n** colunas. Além disso, os elementos \n",
    "de **H** são inteiros gerados de forma aleatória, independente e uniforme num intervalo {0..q-1}"
   ]
  },
  {
   "cell_type": "code",
   "execution_count": 4,
   "id": "0151e296",
   "metadata": {},
   "outputs": [],
   "source": [
    "def geraMatriz(m, n, q):\n",
    "    H = []\n",
    "    for i in range(m):\n",
    "        linha = []\n",
    "        for j in range(n):\n",
    "            linha.append(random.randint(0, q-1))\n",
    "        H.append(linha)\n",
    "    return H\n",
    "\n",
    "H = geraMatriz(m, n, q)"
   ]
  },
  {
   "cell_type": "markdown",
   "id": "b2969b18",
   "metadata": {},
   "source": [
    "Função imprimeMatriz, para facilitar a vizualização da matriz **H**"
   ]
  },
  {
   "cell_type": "code",
   "execution_count": 5,
   "id": "1182b2d6",
   "metadata": {},
   "outputs": [
    {
     "name": "stdout",
     "output_type": "stream",
     "text": [
      "[3, 0, 5, 5, 10]\n",
      "[8, 8, 12, 2, 2]\n",
      "[11, 0, 10, 5, 8]\n",
      "[6, 11, 6, 11, 1]\n",
      "[11, 9, 9, 11, 10]\n",
      "[2, 11, 3, 4, 11]\n",
      "[8, 12, 5, 10, 0]\n",
      "[11, 3, 9, 8, 12]\n",
      "[1, 9, 0, 4, 3]\n",
      "[4, 12, 3, 8, 3]\n"
     ]
    }
   ],
   "source": [
    "def imprimeMatriz(H):\n",
    "    for linha in H:\n",
    "        print(linha)\n",
    "imprimeMatriz(H)        \n"
   ]
  },
  {
   "cell_type": "markdown",
   "id": "40afbf54",
   "metadata": {},
   "source": [
    "Função geraVetor_e, que garante que o vetor **e** só terá 0's e 1's como elementos. A restrição\n",
    "do vetor **e** ser diferente do vetor nulo ainda não foi levada em consideração."
   ]
  },
  {
   "cell_type": "code",
   "execution_count": 6,
   "id": "f9c79689",
   "metadata": {},
   "outputs": [],
   "source": [
    "def geraVetor_e(solver,m):\n",
    "    return [solver.BoolVar(f'e[{i}]') for i in range(m)]\n",
    "\n",
    "e = geraVetor_e(solver,m)"
   ]
  },
  {
   "cell_type": "markdown",
   "id": "0bd90bf4",
   "metadata": {},
   "source": [
    "Função geraVetor_k, que garante que o vetor **k** terá apenas elementos inteiros e pertencentes\n",
    "ao intervalo {0..m}"
   ]
  },
  {
   "cell_type": "code",
   "execution_count": 7,
   "id": "c8cae3af",
   "metadata": {},
   "outputs": [],
   "source": [
    "def geraVetor_k(solver,n,m):\n",
    "    return [solver.IntVar(0, m, f'k[{j}]') for j in range(n)]\n",
    "\n",
    "k = geraVetor_k(solver,n,m)"
   ]
  },
  {
   "cell_type": "markdown",
   "id": "e9cebdba",
   "metadata": {},
   "source": [
    "Restrições:"
   ]
  },
  {
   "cell_type": "markdown",
   "id": "fb50ff71",
   "metadata": {},
   "source": [
    "$$\n",
    "\\exists\\, j < m \\;\\cdot\\; e_j \\neq 0\n",
    "$$\n"
   ]
  },
  {
   "cell_type": "markdown",
   "id": "50485cf3",
   "metadata": {},
   "source": [
    "Ou seja, a soma de todas as componentes do vetor **e** deve ser maior ou igual a 1. Adicionando-se ao solver, temos:"
   ]
  },
  {
   "cell_type": "code",
   "execution_count": 8,
   "id": "b35d3641",
   "metadata": {},
   "outputs": [
    {
     "data": {
      "text/plain": [
       "<ortools.linear_solver.pywraplp.Constraint; proxy of <Swig Object of type 'operations_research::MPConstraint *' at 0x0000029C6E9A37E0> >"
      ]
     },
     "execution_count": 8,
     "metadata": {},
     "output_type": "execute_result"
    }
   ],
   "source": [
    "solver.Add(solver.Sum(e) >= 1) "
   ]
  },
  {
   "cell_type": "markdown",
   "id": "38554a20",
   "metadata": {},
   "source": [
    "$$\n",
    "\\forall\\, i < n \\;\\cdot\\; \\sum_{j < m} e_j\\, H_{j,i} \\;=\\; q\\, k_i\n",
    "$$\n"
   ]
  },
  {
   "cell_type": "markdown",
   "id": "b818e507",
   "metadata": {},
   "source": [
    "Adicionando-se ao solver, temos:"
   ]
  },
  {
   "cell_type": "code",
   "execution_count": 9,
   "id": "611f311e",
   "metadata": {},
   "outputs": [],
   "source": [
    "for i in range(n):\n",
    "    solver.Add(sum(e[j] * H[j][i] for j in range(m)) - q * k[i] == 0)"
   ]
  },
  {
   "cell_type": "markdown",
   "id": "2704334c",
   "metadata": {},
   "source": [
    "Se existir o **e** que satisfaz as restrições, pretende-se determinar **e** que minimiza o \n",
    "número de componentes não nulas, ou seja, que faz com que a soma das componentes de **e** seja\n",
    "mínima. Adicionando-se essa restrição ao solver, temos:"
   ]
  },
  {
   "cell_type": "code",
   "execution_count": 10,
   "id": "e72fecea",
   "metadata": {},
   "outputs": [],
   "source": [
    "solver.Minimize(solver.Sum(e))"
   ]
  },
  {
   "cell_type": "markdown",
   "id": "bdb14f34",
   "metadata": {},
   "source": [
    "4. Função principal que resolve o problema"
   ]
  },
  {
   "cell_type": "code",
   "execution_count": 11,
   "id": "51084149",
   "metadata": {},
   "outputs": [],
   "source": [
    "# Função principal que resolve o problema\n",
    "def resolveProblema(n,m,q,H):\n",
    "    solver = pywraplp.Solver.CreateSolver('SCIP')\n",
    "\n",
    "    e = geraVetor_e(solver,m)\n",
    "    k = geraVetor_k(solver,n,m)\n",
    "\n",
    "    solver.Add(solver.Sum(e) >= 1) \n",
    "\n",
    "    for i in range(n):\n",
    "        solver.Add(sum(e[j] * H[j][i] for j in range(m)) - q * k[i] == 0)\n",
    "\n",
    "    solver.Minimize(solver.Sum(e))\n",
    "\n",
    "    status = solver.Solve()\n",
    "\n",
    "    if status == pywraplp.Solver.OPTIMAL:\n",
    "        print(\"Solução encontrada:\")\n",
    "        print(\"Matriz H:\")\n",
    "        imprimeMatriz(H)\n",
    "        print(\"\\nVetor e:\", [int(var.solution_value()) for var in e])\n",
    "        print(\"Vetor k:\", [int(var.solution_value()) for var in k])\n",
    "        print(\"Número de não-nulos em e:\", int(sum(var.solution_value() for var in e)))\n",
    "    else:\n",
    "        print(\"Nenhuma solução encontrada:\")\n",
    "        print(\"Matriz H:\")\n",
    "        imprimeMatriz(H)"
   ]
  },
  {
   "cell_type": "markdown",
   "id": "314ea7b5",
   "metadata": {},
   "source": [
    "## 2. Exemplos práticos"
   ]
  },
  {
   "cell_type": "markdown",
   "id": "d862e423",
   "metadata": {},
   "source": [
    "### 1. Uma solução é encontrada"
   ]
  },
  {
   "cell_type": "code",
   "execution_count": 12,
   "id": "37066045",
   "metadata": {},
   "outputs": [
    {
     "name": "stdout",
     "output_type": "stream",
     "text": [
      "Solução encontrada:\n",
      "Matriz H:\n",
      "[10, 20, 15]\n",
      "[10, 2, 10]\n",
      "[11, 5, 6]\n",
      "[17, 24, 30]\n",
      "[0, 7, 0]\n",
      "[14, 4, 1]\n",
      "\n",
      "Vetor e: [1, 1, 1, 1, 1, 1]\n",
      "Vetor k: [2, 2, 2]\n",
      "Número de não-nulos em e: 6\n"
     ]
    }
   ],
   "source": [
    "# Definição dos parâmetros do problema, definidos pelo usuário\n",
    "n = 3\n",
    "m = 6 # Lembrar que m >= 2*n\n",
    "q = 31 # Lembrar que q é primo e q >> m\n",
    "H = [\n",
    "  [10, 20, 15],   \n",
    "  [10, 2, 10],   \n",
    "  [11, 5,  6],   \n",
    "  [17, 24, 30],   \n",
    "  [0,  7,  0],   \n",
    "  [14, 4,  1],\n",
    "]\n",
    "\n",
    "resolveProblema(n,m,q,H)"
   ]
  },
  {
   "cell_type": "markdown",
   "id": "0dfaaec0",
   "metadata": {},
   "source": [
    "### 2.Uma solução não é encontrada"
   ]
  },
  {
   "cell_type": "code",
   "execution_count": 13,
   "id": "c9a97b6e",
   "metadata": {},
   "outputs": [
    {
     "name": "stdout",
     "output_type": "stream",
     "text": [
      "Nenhuma solução encontrada:\n",
      "Matriz H:\n",
      "[18, 44, 32, 55, 24, 43, 16]\n",
      "[16, 68, 9, 8, 64, 20, 3]\n",
      "[11, 39, 68, 16, 7, 58, 63]\n",
      "[18, 8, 70, 11, 35, 36, 25]\n",
      "[45, 26, 19, 21, 52, 12, 15]\n",
      "[9, 65, 16, 38, 51, 34, 26]\n",
      "[37, 7, 28, 20, 34, 23, 4]\n",
      "[1, 11, 35, 13, 5, 64, 19]\n",
      "[30, 52, 38, 33, 67, 11, 44]\n",
      "[28, 31, 18, 17, 14, 5, 54]\n",
      "[29, 63, 35, 20, 4, 10, 30]\n",
      "[53, 27, 23, 29, 5, 56, 6]\n",
      "[1, 57, 9, 31, 12, 41, 46]\n",
      "[52, 47, 0, 1, 30, 24, 40]\n"
     ]
    }
   ],
   "source": [
    "# Definição dos parâmetros do problema, definidos pelo usuário\n",
    "n = 7\n",
    "m = 14 # Lembrar que m >= 2*n\n",
    "q = 71 # Lembrar que q é primo e q >> m\n",
    "H = [[18, 44, 32, 55, 24, 43, 16],\n",
    "[16, 68, 9, 8, 64, 20, 3],\n",
    "[11, 39, 68, 16, 7, 58, 63],\n",
    "[18, 8, 70, 11, 35, 36, 25],\n",
    "[45, 26, 19, 21, 52, 12, 15],\n",
    "[9, 65, 16, 38, 51, 34, 26],\n",
    "[37, 7, 28, 20, 34, 23, 4],\n",
    "[1, 11, 35, 13, 5, 64, 19],\n",
    "[30, 52, 38, 33, 67, 11, 44],\n",
    "[28, 31, 18, 17, 14, 5, 54],\n",
    "[29, 63, 35, 20, 4, 10, 30],\n",
    "[53, 27, 23, 29, 5, 56, 6],\n",
    "[1, 57, 9, 31, 12, 41, 46],\n",
    "[52, 47, 0, 1, 30, 24, 40]]\n",
    "resolveProblema(n,m,q,H)"
   ]
  },
  {
   "cell_type": "markdown",
   "id": "b502ab00",
   "metadata": {},
   "source": [
    "### 3.Tentativas"
   ]
  },
  {
   "cell_type": "code",
   "execution_count": 14,
   "id": "b97c4d16",
   "metadata": {},
   "outputs": [
    {
     "name": "stdout",
     "output_type": "stream",
     "text": [
      "Nenhuma solução encontrada:\n",
      "Matriz H:\n",
      "[12, 152, 94, 77, 23, 96, 44, 29, 85, 140]\n",
      "[142, 16, 17, 19, 178, 50, 158, 87, 10, 35]\n",
      "[81, 132, 148, 49, 128, 169, 6, 29, 169, 27]\n",
      "[59, 35, 133, 88, 42, 70, 107, 22, 78, 77]\n",
      "[0, 73, 106, 54, 168, 48, 34, 109, 134, 85]\n",
      "[9, 89, 31, 118, 122, 73, 120, 96, 30, 5]\n",
      "[97, 129, 27, 155, 157, 152, 7, 164, 58, 40]\n",
      "[115, 78, 45, 91, 162, 145, 17, 66, 66, 33]\n",
      "[131, 67, 168, 24, 48, 178, 72, 73, 84, 156]\n",
      "[148, 32, 170, 130, 90, 25, 31, 28, 19, 28]\n",
      "[176, 3, 83, 161, 92, 32, 133, 67, 0, 21]\n",
      "[78, 165, 177, 41, 88, 98, 170, 92, 35, 77]\n",
      "[72, 124, 93, 56, 152, 90, 127, 171, 85, 88]\n",
      "[65, 73, 49, 177, 89, 40, 91, 144, 28, 33]\n",
      "[7, 65, 142, 150, 42, 133, 112, 115, 174, 8]\n",
      "[14, 121, 54, 156, 109, 99, 9, 97, 124, 69]\n",
      "[90, 121, 173, 169, 130, 133, 29, 40, 5, 167]\n",
      "[38, 168, 153, 20, 108, 5, 165, 129, 63, 69]\n",
      "[59, 115, 154, 28, 161, 106, 78, 9, 112, 83]\n",
      "[36, 176, 116, 53, 12, 160, 14, 39, 118, 164]\n"
     ]
    }
   ],
   "source": [
    "# Definição dos parâmetros do problema, definidos pelo usuário\n",
    "n = 10\n",
    "m = 20 # Lembrar que m >= 2*n\n",
    "q = 179 # Lembrar que q é primo e q >> m\n",
    "H = geraMatriz(m, n, q)\n",
    "resolveProblema(n,m,q,H)"
   ]
  }
 ],
 "metadata": {
  "kernelspec": {
   "display_name": "Python (LC_env)",
   "language": "python",
   "name": "lc_env"
  },
  "language_info": {
   "codemirror_mode": {
    "name": "ipython",
    "version": 3
   },
   "file_extension": ".py",
   "mimetype": "text/x-python",
   "name": "python",
   "nbconvert_exporter": "python",
   "pygments_lexer": "ipython3",
   "version": "3.13.7"
  }
 },
 "nbformat": 4,
 "nbformat_minor": 5
}
