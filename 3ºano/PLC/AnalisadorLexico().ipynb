{
 "cells": [
  {
   "cell_type": "markdown",
   "id": "f14387d9",
   "metadata": {},
   "source": [
    "()()\n",
    "(()()())\n",
    "((()()))\n",
    "\n",
    "T = {'(',')'}\n",
    "Producoes\n",
    "S --> '(' S ')'S\n",
    "            | vazio\n",
    "\n",
    "First (\"(\"S\")\"S) = {\"(\"}\n",
    "First(vazio) = {vazio}\n",
    "Follow(S) = {\")\",vazio}\n"
   ]
  },
  {
   "cell_type": "code",
   "execution_count": null,
   "id": "d74a11fa",
   "metadata": {},
   "outputs": [],
   "source": [
    "import ply.lex as lex\n",
    "\n",
    "tokens = (PA,PF)\n",
    "t_PA = r'\\('\n",
    "t_PF = r'\\)'\n",
    "\n",
    "def t_newline(t):\n",
    "    r'\\n+'\n",
    "    t.lexer.lineno += len(t.value)\n",
    "t_ignore = ' \\t'\n",
    "\n",
    "def t_error(t):\n",
    "    print(\"Caracter desconhecido '%s'\", t.value[0], 'Linha', t.lexer.lineno)\n",
    "    t.lexer.skip(1)\n",
    "lexer = lex.lex()"
   ]
  }
 ],
 "metadata": {
  "language_info": {
   "name": "python"
  }
 },
 "nbformat": 4,
 "nbformat_minor": 5
}
